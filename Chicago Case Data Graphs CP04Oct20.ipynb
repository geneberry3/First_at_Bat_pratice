{
 "cells": [
  {
   "cell_type": "code",
   "execution_count": 12,
   "metadata": {},
   "outputs": [],
   "source": [
    "import pandas as pd\n",
    "import json\n",
    "import numpy as np\n",
    "import seaborn as sns\n",
    "\n",
    "from datetime import datetime\n",
    "import matplotlib.pyplot as plt\n",
    "import scipy.stats as st\n",
    "from scipy.stats import linregress"
   ]
  },
  {
   "cell_type": "code",
   "execution_count": 2,
   "metadata": {},
   "outputs": [
    {
     "data": {
      "text/html": [
       "<div>\n",
       "<style scoped>\n",
       "    .dataframe tbody tr th:only-of-type {\n",
       "        vertical-align: middle;\n",
       "    }\n",
       "\n",
       "    .dataframe tbody tr th {\n",
       "        vertical-align: top;\n",
       "    }\n",
       "\n",
       "    .dataframe thead th {\n",
       "        text-align: right;\n",
       "    }\n",
       "</style>\n",
       "<table border=\"1\" class=\"dataframe\">\n",
       "  <thead>\n",
       "    <tr style=\"text-align: right;\">\n",
       "      <th></th>\n",
       "      <th>dt_iso</th>\n",
       "      <th>city_name</th>\n",
       "      <th>lat</th>\n",
       "      <th>lon</th>\n",
       "      <th>temp</th>\n",
       "      <th>feels_like</th>\n",
       "      <th>temp_min</th>\n",
       "      <th>temp_max</th>\n",
       "      <th>pressure</th>\n",
       "      <th>humidity</th>\n",
       "      <th>wind_speed</th>\n",
       "      <th>totalcases</th>\n",
       "      <th>totaldeaths</th>\n",
       "    </tr>\n",
       "  </thead>\n",
       "  <tbody>\n",
       "    <tr>\n",
       "      <th>0</th>\n",
       "      <td>3/18/2020</td>\n",
       "      <td>Chicago</td>\n",
       "      <td>41.878114</td>\n",
       "      <td>-87.629798</td>\n",
       "      <td>40.431667</td>\n",
       "      <td>32.825667</td>\n",
       "      <td>38.399000</td>\n",
       "      <td>42.311000</td>\n",
       "      <td>1019.666667</td>\n",
       "      <td>70.800000</td>\n",
       "      <td>7.268000</td>\n",
       "      <td>162</td>\n",
       "      <td>1</td>\n",
       "    </tr>\n",
       "    <tr>\n",
       "      <th>1</th>\n",
       "      <td>3/19/2020</td>\n",
       "      <td>Chicago</td>\n",
       "      <td>41.878114</td>\n",
       "      <td>-87.629798</td>\n",
       "      <td>43.077317</td>\n",
       "      <td>36.438537</td>\n",
       "      <td>40.516829</td>\n",
       "      <td>45.446585</td>\n",
       "      <td>1014.097561</td>\n",
       "      <td>96.926829</td>\n",
       "      <td>8.807561</td>\n",
       "      <td>184</td>\n",
       "      <td>2</td>\n",
       "    </tr>\n",
       "    <tr>\n",
       "      <th>2</th>\n",
       "      <td>3/20/2020</td>\n",
       "      <td>Chicago</td>\n",
       "      <td>41.878114</td>\n",
       "      <td>-87.629798</td>\n",
       "      <td>47.291250</td>\n",
       "      <td>38.211667</td>\n",
       "      <td>43.529167</td>\n",
       "      <td>50.398750</td>\n",
       "      <td>1011.875000</td>\n",
       "      <td>85.375000</td>\n",
       "      <td>14.475000</td>\n",
       "      <td>155</td>\n",
       "      <td>0</td>\n",
       "    </tr>\n",
       "    <tr>\n",
       "      <th>3</th>\n",
       "      <td>3/21/2020</td>\n",
       "      <td>Chicago</td>\n",
       "      <td>41.878114</td>\n",
       "      <td>-87.629798</td>\n",
       "      <td>30.194583</td>\n",
       "      <td>17.966250</td>\n",
       "      <td>28.536250</td>\n",
       "      <td>32.004583</td>\n",
       "      <td>1032.375000</td>\n",
       "      <td>61.541667</td>\n",
       "      <td>12.611667</td>\n",
       "      <td>125</td>\n",
       "      <td>2</td>\n",
       "    </tr>\n",
       "    <tr>\n",
       "      <th>4</th>\n",
       "      <td>3/22/2020</td>\n",
       "      <td>Chicago</td>\n",
       "      <td>41.878114</td>\n",
       "      <td>-87.629798</td>\n",
       "      <td>30.493704</td>\n",
       "      <td>21.055926</td>\n",
       "      <td>28.730370</td>\n",
       "      <td>32.875185</td>\n",
       "      <td>1029.888889</td>\n",
       "      <td>67.370370</td>\n",
       "      <td>8.061111</td>\n",
       "      <td>169</td>\n",
       "      <td>2</td>\n",
       "    </tr>\n",
       "  </tbody>\n",
       "</table>\n",
       "</div>"
      ],
      "text/plain": [
       "      dt_iso city_name        lat        lon       temp  feels_like  \\\n",
       "0  3/18/2020   Chicago  41.878114 -87.629798  40.431667   32.825667   \n",
       "1  3/19/2020   Chicago  41.878114 -87.629798  43.077317   36.438537   \n",
       "2  3/20/2020   Chicago  41.878114 -87.629798  47.291250   38.211667   \n",
       "3  3/21/2020   Chicago  41.878114 -87.629798  30.194583   17.966250   \n",
       "4  3/22/2020   Chicago  41.878114 -87.629798  30.493704   21.055926   \n",
       "\n",
       "    temp_min   temp_max     pressure   humidity  wind_speed totalcases  \\\n",
       "0  38.399000  42.311000  1019.666667  70.800000    7.268000        162   \n",
       "1  40.516829  45.446585  1014.097561  96.926829    8.807561        184   \n",
       "2  43.529167  50.398750  1011.875000  85.375000   14.475000        155   \n",
       "3  28.536250  32.004583  1032.375000  61.541667   12.611667        125   \n",
       "4  28.730370  32.875185  1029.888889  67.370370    8.061111        169   \n",
       "\n",
       "   totaldeaths  \n",
       "0            1  \n",
       "1            2  \n",
       "2            0  \n",
       "3            2  \n",
       "4            2  "
      ]
     },
     "execution_count": 2,
     "metadata": {},
     "output_type": "execute_result"
    }
   ],
   "source": [
    "file = 'Resources/Chicago_temp_and_cases_data_df.csv'\n",
    "total_case_data_Chi = pd.read_csv(file)\n",
    "total_case_data_Chi.head()"
   ]
  },
  {
   "cell_type": "code",
   "execution_count": 3,
   "metadata": {},
   "outputs": [
    {
     "data": {
      "text/plain": [
       "Index(['dt_iso', 'city_name', 'lat', 'lon', 'temp', 'feels_like', 'temp_min',\n",
       "       'temp_max', 'pressure', 'humidity', 'wind_speed', 'totalcases',\n",
       "       'totaldeaths'],\n",
       "      dtype='object')"
      ]
     },
     "execution_count": 3,
     "metadata": {},
     "output_type": "execute_result"
    }
   ],
   "source": [
    "total_case_data_Chi.columns"
   ]
  },
  {
   "cell_type": "code",
   "execution_count": 4,
   "metadata": {},
   "outputs": [
    {
     "data": {
      "text/plain": [
       "dt_iso          object\n",
       "city_name       object\n",
       "lat            float64\n",
       "lon            float64\n",
       "temp           float64\n",
       "feels_like     float64\n",
       "temp_min       float64\n",
       "temp_max       float64\n",
       "pressure       float64\n",
       "humidity       float64\n",
       "wind_speed     float64\n",
       "totalcases      object\n",
       "totaldeaths      int64\n",
       "dtype: object"
      ]
     },
     "execution_count": 4,
     "metadata": {},
     "output_type": "execute_result"
    }
   ],
   "source": [
    "total_case_data_Chi.dtypes"
   ]
  },
  {
   "cell_type": "code",
   "execution_count": 5,
   "metadata": {},
   "outputs": [
    {
     "data": {
      "image/png": "[encoded data removed]",
      "text/plain": [
       "<Figure size 432x288 with 1 Axes>"
      ]
     },
     "metadata": {
      "needs_background": "light"
     },
     "output_type": "display_data"
    }
   ],
   "source": [
    "xvalue = total_case_data_Chi['dt_iso'].astype(str)\n",
    "yvalue = total_case_data_Chi['temp']\n",
    "cases = total_case_data_Chi['totalcases']\n",
    "plt.plot(xvalue, yvalue, marker='o', color='red', linewidth=1)\n",
    "\n",
    "plt.xlabel('Date')\n",
    "plt.ylabel('Temperature' \n",
    "           'degrees F')\n",
    "\n",
    "plt.title('Temperature of Chicago')\n",
    "plt.savefig('Resources/Temperature_of_Chi.jpg')\n",
    "plt.show()\n",
    "           "
   ]
  },
  {
   "cell_type": "code",
   "execution_count": 6,
   "metadata": {},
   "outputs": [
    {
     "name": "stdout",
     "output_type": "stream",
     "text": [
      "The lower quartile of temperatures is: 48.075625\n",
      "The upper quartile of temperatures is: 76.74708333500001\n",
      "The interquartile range of temperatures is: 28.67145833500001\n",
      "The the median of temperatures is: 66.19708333 \n",
      "Values below 5.0684374974999855 could be outliers.\n",
      "Values above 119.75427083750003 could be outliers.\n"
     ]
    }
   ],
   "source": [
    "temperatures =  total_case_data_Chi['temp']\n",
    "quartiles = temperatures.quantile([.25,.5,.75])\n",
    "lowerq = quartiles[0.25]\n",
    "upperq = quartiles[0.75]\n",
    "iqr = upperq-lowerq\n",
    "\n",
    "print(f\"The lower quartile of temperatures is: {lowerq}\")\n",
    "print(f\"The upper quartile of temperatures is: {upperq}\")\n",
    "print(f\"The interquartile range of temperatures is: {iqr}\")\n",
    "print(f\"The the median of temperatures is: {quartiles[0.5]} \")\n",
    "\n",
    "lower_bound = lowerq - (1.5*iqr)\n",
    "upper_bound = upperq + (1.5*iqr)\n",
    "print(f\"Values below {lower_bound} could be outliers.\")\n",
    "print(f\"Values above {upper_bound} could be outliers.\")"
   ]
  },
  {
   "cell_type": "code",
   "execution_count": 8,
   "metadata": {},
   "outputs": [
    {
     "data": {
      "image/png": "[encoded data removed]",
      "text/plain": [
       "<Figure size 432x288 with 1 Axes>"
      ]
     },
     "metadata": {
      "needs_background": "light"
     },
     "output_type": "display_data"
    }
   ],
   "source": [
    "xvalue = total_case_data_Chi['dt_iso']\n",
    "\n",
    "cases = total_case_data_Chi['totalcases']\n",
    "plt.plot(xvalue, cases, marker='o', color='blue', linewidth=1)\n",
    "\n",
    "plt.xlabel('Date')\n",
    "plt.ylabel('Number of Cases') \n",
    "plt.savefig('Resources/Cases_and_dates_for_Chi.jpg')          \n",
    "plt.title('Number of confirmed cases in Chicago')\n",
    "plt.savefig('Resources/Number_of_total_cases_Chicago.jpg')\n",
    "\n",
    "plt.show()"
   ]
  },
  {
   "cell_type": "code",
   "execution_count": 13,
   "metadata": {},
   "outputs": [
    {
     "data": {
      "image/png": "[encoded data removed]",
      "text/plain": [
       "<Figure size 432x288 with 1 Axes>"
      ]
     },
     "metadata": {
      "needs_background": "light"
     },
     "output_type": "display_data"
    }
   ],
   "source": [
    "yvalue = total_case_data_Chi['temp'].astype(str)\n",
    "cases = cases = total_case_data_Chi['totalcases']\n",
    "plt.scatter(yvalue, cases, marker='o', color='blue',)\n",
    "plt.xlabel('Temperature')\n",
    "plt.ylabel('Cases')\n",
    "plt.title('Cases vs Temperature for Chicago')\n",
    "plt.savefig('Resources/Cases_vs_Temperature_for_Chicago.jpg')\n",
    "plt.show()\n"
   ]
  },
  {
   "cell_type": "code",
   "execution_count": 19,
   "metadata": {},
   "outputs": [
    {
     "data": {
      "text/html": [
       "<div>\n",
       "<style scoped>\n",
       "    .dataframe tbody tr th:only-of-type {\n",
       "        vertical-align: middle;\n",
       "    }\n",
       "\n",
       "    .dataframe tbody tr th {\n",
       "        vertical-align: top;\n",
       "    }\n",
       "\n",
       "    .dataframe thead th {\n",
       "        text-align: right;\n",
       "    }\n",
       "</style>\n",
       "<table border=\"1\" class=\"dataframe\">\n",
       "  <thead>\n",
       "    <tr style=\"text-align: right;\">\n",
       "      <th></th>\n",
       "      <th>lat</th>\n",
       "      <th>lon</th>\n",
       "      <th>temp</th>\n",
       "      <th>feels_like</th>\n",
       "      <th>temp_min</th>\n",
       "      <th>temp_max</th>\n",
       "      <th>pressure</th>\n",
       "      <th>humidity</th>\n",
       "      <th>wind_speed</th>\n",
       "      <th>totaldeaths</th>\n",
       "    </tr>\n",
       "  </thead>\n",
       "  <tbody>\n",
       "    <tr>\n",
       "      <th>lat</th>\n",
       "      <td>1.000000e+00</td>\n",
       "      <td>1.000000e+00</td>\n",
       "      <td>6.559450e-16</td>\n",
       "      <td>7.704954e-17</td>\n",
       "      <td>-1.807337e-17</td>\n",
       "      <td>1.050689e-15</td>\n",
       "      <td>3.324276e-14</td>\n",
       "      <td>3.385882e-16</td>\n",
       "      <td>1.645825e-15</td>\n",
       "      <td>2.935005e-16</td>\n",
       "    </tr>\n",
       "    <tr>\n",
       "      <th>lon</th>\n",
       "      <td>1.000000e+00</td>\n",
       "      <td>1.000000e+00</td>\n",
       "      <td>3.147211e-16</td>\n",
       "      <td>8.231788e-18</td>\n",
       "      <td>2.538878e-16</td>\n",
       "      <td>1.183097e-15</td>\n",
       "      <td>3.324276e-14</td>\n",
       "      <td>7.132925e-16</td>\n",
       "      <td>1.733288e-15</td>\n",
       "      <td>2.938950e-16</td>\n",
       "    </tr>\n",
       "    <tr>\n",
       "      <th>temp</th>\n",
       "      <td>6.559450e-16</td>\n",
       "      <td>3.147211e-16</td>\n",
       "      <td>1.000000e+00</td>\n",
       "      <td>9.936881e-01</td>\n",
       "      <td>9.978337e-01</td>\n",
       "      <td>9.987869e-01</td>\n",
       "      <td>-2.378881e-01</td>\n",
       "      <td>-2.174320e-01</td>\n",
       "      <td>-2.774226e-01</td>\n",
       "      <td>-5.205222e-01</td>\n",
       "    </tr>\n",
       "    <tr>\n",
       "      <th>feels_like</th>\n",
       "      <td>7.704954e-17</td>\n",
       "      <td>8.231788e-18</td>\n",
       "      <td>9.936881e-01</td>\n",
       "      <td>1.000000e+00</td>\n",
       "      <td>9.925936e-01</td>\n",
       "      <td>9.929681e-01</td>\n",
       "      <td>-2.373961e-01</td>\n",
       "      <td>-1.427648e-01</td>\n",
       "      <td>-3.453236e-01</td>\n",
       "      <td>-5.437237e-01</td>\n",
       "    </tr>\n",
       "    <tr>\n",
       "      <th>temp_min</th>\n",
       "      <td>-1.807337e-17</td>\n",
       "      <td>2.538878e-16</td>\n",
       "      <td>9.978337e-01</td>\n",
       "      <td>9.925936e-01</td>\n",
       "      <td>1.000000e+00</td>\n",
       "      <td>9.944928e-01</td>\n",
       "      <td>-2.322727e-01</td>\n",
       "      <td>-2.053266e-01</td>\n",
       "      <td>-2.646187e-01</td>\n",
       "      <td>-5.384209e-01</td>\n",
       "    </tr>\n",
       "    <tr>\n",
       "      <th>temp_max</th>\n",
       "      <td>1.050689e-15</td>\n",
       "      <td>1.183097e-15</td>\n",
       "      <td>9.987869e-01</td>\n",
       "      <td>9.929681e-01</td>\n",
       "      <td>9.944928e-01</td>\n",
       "      <td>1.000000e+00</td>\n",
       "      <td>-2.370465e-01</td>\n",
       "      <td>-2.150250e-01</td>\n",
       "      <td>-2.908580e-01</td>\n",
       "      <td>-5.168608e-01</td>\n",
       "    </tr>\n",
       "    <tr>\n",
       "      <th>pressure</th>\n",
       "      <td>3.324276e-14</td>\n",
       "      <td>3.324276e-14</td>\n",
       "      <td>-2.378881e-01</td>\n",
       "      <td>-2.373961e-01</td>\n",
       "      <td>-2.322727e-01</td>\n",
       "      <td>-2.370465e-01</td>\n",
       "      <td>1.000000e+00</td>\n",
       "      <td>-3.442045e-01</td>\n",
       "      <td>-2.815917e-01</td>\n",
       "      <td>-7.270936e-02</td>\n",
       "    </tr>\n",
       "    <tr>\n",
       "      <th>humidity</th>\n",
       "      <td>3.385882e-16</td>\n",
       "      <td>7.132925e-16</td>\n",
       "      <td>-2.174320e-01</td>\n",
       "      <td>-1.427648e-01</td>\n",
       "      <td>-2.053266e-01</td>\n",
       "      <td>-2.150250e-01</td>\n",
       "      <td>-3.442045e-01</td>\n",
       "      <td>1.000000e+00</td>\n",
       "      <td>2.577434e-02</td>\n",
       "      <td>-4.092843e-02</td>\n",
       "    </tr>\n",
       "    <tr>\n",
       "      <th>wind_speed</th>\n",
       "      <td>1.645825e-15</td>\n",
       "      <td>1.733288e-15</td>\n",
       "      <td>-2.774226e-01</td>\n",
       "      <td>-3.453236e-01</td>\n",
       "      <td>-2.646187e-01</td>\n",
       "      <td>-2.908580e-01</td>\n",
       "      <td>-2.815917e-01</td>\n",
       "      <td>2.577434e-02</td>\n",
       "      <td>1.000000e+00</td>\n",
       "      <td>2.502555e-01</td>\n",
       "    </tr>\n",
       "    <tr>\n",
       "      <th>totaldeaths</th>\n",
       "      <td>2.935005e-16</td>\n",
       "      <td>2.938950e-16</td>\n",
       "      <td>-5.205222e-01</td>\n",
       "      <td>-5.437237e-01</td>\n",
       "      <td>-5.384209e-01</td>\n",
       "      <td>-5.168608e-01</td>\n",
       "      <td>-7.270936e-02</td>\n",
       "      <td>-4.092843e-02</td>\n",
       "      <td>2.502555e-01</td>\n",
       "      <td>1.000000e+00</td>\n",
       "    </tr>\n",
       "  </tbody>\n",
       "</table>\n",
       "</div>"
      ],
      "text/plain": [
       "                      lat           lon          temp    feels_like  \\\n",
       "lat          1.000000e+00  1.000000e+00  6.559450e-16  7.704954e-17   \n",
       "lon          1.000000e+00  1.000000e+00  3.147211e-16  8.231788e-18   \n",
       "temp         6.559450e-16  3.147211e-16  1.000000e+00  9.936881e-01   \n",
       "feels_like   7.704954e-17  8.231788e-18  9.936881e-01  1.000000e+00   \n",
       "temp_min    -1.807337e-17  2.538878e-16  9.978337e-01  9.925936e-01   \n",
       "temp_max     1.050689e-15  1.183097e-15  9.987869e-01  9.929681e-01   \n",
       "pressure     3.324276e-14  3.324276e-14 -2.378881e-01 -2.373961e-01   \n",
       "humidity     3.385882e-16  7.132925e-16 -2.174320e-01 -1.427648e-01   \n",
       "wind_speed   1.645825e-15  1.733288e-15 -2.774226e-01 -3.453236e-01   \n",
       "totaldeaths  2.935005e-16  2.938950e-16 -5.205222e-01 -5.437237e-01   \n",
       "\n",
       "                 temp_min      temp_max      pressure      humidity  \\\n",
       "lat         -1.807337e-17  1.050689e-15  3.324276e-14  3.385882e-16   \n",
       "lon          2.538878e-16  1.183097e-15  3.324276e-14  7.132925e-16   \n",
       "temp         9.978337e-01  9.987869e-01 -2.378881e-01 -2.174320e-01   \n",
       "feels_like   9.925936e-01  9.929681e-01 -2.373961e-01 -1.427648e-01   \n",
       "temp_min     1.000000e+00  9.944928e-01 -2.322727e-01 -2.053266e-01   \n",
       "temp_max     9.944928e-01  1.000000e+00 -2.370465e-01 -2.150250e-01   \n",
       "pressure    -2.322727e-01 -2.370465e-01  1.000000e+00 -3.442045e-01   \n",
       "humidity    -2.053266e-01 -2.150250e-01 -3.442045e-01  1.000000e+00   \n",
       "wind_speed  -2.646187e-01 -2.908580e-01 -2.815917e-01  2.577434e-02   \n",
       "totaldeaths -5.384209e-01 -5.168608e-01 -7.270936e-02 -4.092843e-02   \n",
       "\n",
       "               wind_speed   totaldeaths  \n",
       "lat          1.645825e-15  2.935005e-16  \n",
       "lon          1.733288e-15  2.938950e-16  \n",
       "temp        -2.774226e-01 -5.205222e-01  \n",
       "feels_like  -3.453236e-01 -5.437237e-01  \n",
       "temp_min    -2.646187e-01 -5.384209e-01  \n",
       "temp_max    -2.908580e-01 -5.168608e-01  \n",
       "pressure    -2.815917e-01 -7.270936e-02  \n",
       "humidity     2.577434e-02 -4.092843e-02  \n",
       "wind_speed   1.000000e+00  2.502555e-01  \n",
       "totaldeaths  2.502555e-01  1.000000e+00  "
      ]
     },
     "execution_count": 19,
     "metadata": {},
     "output_type": "execute_result"
    }
   ],
   "source": [
    "correlations = total_case_data_Chi.corr()\n",
    "correlations"
   ]
  },
  {
   "cell_type": "code",
   "execution_count": 21,
   "metadata": {},
   "outputs": [
    {
     "data": {
      "image/png": "[encoded data removed]",
      "text/plain": [
       "<Figure size 432x288 with 2 Axes>"
      ]
     },
     "metadata": {
      "needs_background": "light"
     },
     "output_type": "display_data"
    }
   ],
   "source": [
    "sns.heatmap(correlations.round(1), annot=True)\n",
    "plt.savefig('Resources/heat_map_Chi_data.jpg')"
   ]
  },
  {
   "cell_type": "code",
   "execution_count": 10,
   "metadata": {},
   "outputs": [
    {
     "ename": "TypeError",
     "evalue": "len() of unsized object",
     "output_type": "error",
     "traceback": [
      "\u001b[1;31m---------------------------------------------------------------------------\u001b[0m",
      "\u001b[1;31mTypeError\u001b[0m                                 Traceback (most recent call last)",
      "\u001b[1;32m<ipython-input-10-d9143e1d1d31>\u001b[0m in \u001b[0;36m<module>\u001b[1;34m\u001b[0m\n\u001b[0;32m      1\u001b[0m \u001b[0mx_values\u001b[0m \u001b[1;33m=\u001b[0m \u001b[0mtotal_case_data_Chi\u001b[0m\u001b[1;33m[\u001b[0m\u001b[1;34m'temp'\u001b[0m\u001b[1;33m]\u001b[0m\u001b[1;33m.\u001b[0m\u001b[0mastype\u001b[0m\u001b[1;33m\u001b[0m\u001b[1;33m\u001b[0m\u001b[0m\n\u001b[0;32m      2\u001b[0m \u001b[0my_values\u001b[0m \u001b[1;33m=\u001b[0m \u001b[0mtotal_case_data_Chi\u001b[0m\u001b[1;33m[\u001b[0m\u001b[1;34m'totalcases'\u001b[0m\u001b[1;33m]\u001b[0m\u001b[1;33m.\u001b[0m\u001b[0mastype\u001b[0m\u001b[1;33m(\u001b[0m\u001b[0mstr\u001b[0m\u001b[1;33m)\u001b[0m\u001b[1;33m\u001b[0m\u001b[1;33m\u001b[0m\u001b[0m\n\u001b[1;32m----> 3\u001b[1;33m \u001b[1;33m(\u001b[0m\u001b[0mslope\u001b[0m\u001b[1;33m,\u001b[0m \u001b[0mintercept\u001b[0m\u001b[1;33m,\u001b[0m \u001b[0mrvalue\u001b[0m\u001b[1;33m,\u001b[0m \u001b[0mpvalue\u001b[0m\u001b[1;33m,\u001b[0m \u001b[0mstderr\u001b[0m\u001b[1;33m)\u001b[0m \u001b[1;33m=\u001b[0m \u001b[0mlinregress\u001b[0m\u001b[1;33m(\u001b[0m\u001b[0mx_values\u001b[0m\u001b[1;33m,\u001b[0m \u001b[0my_values\u001b[0m\u001b[1;33m)\u001b[0m\u001b[1;33m\u001b[0m\u001b[1;33m\u001b[0m\u001b[0m\n\u001b[0m\u001b[0;32m      4\u001b[0m \u001b[0mregress_values\u001b[0m \u001b[1;33m=\u001b[0m \u001b[0mx_values\u001b[0m \u001b[1;33m*\u001b[0m \u001b[0mslope\u001b[0m \u001b[1;33m+\u001b[0m \u001b[0mintercept\u001b[0m\u001b[1;33m\u001b[0m\u001b[1;33m\u001b[0m\u001b[0m\n\u001b[0;32m      5\u001b[0m \u001b[0mline_eq\u001b[0m \u001b[1;33m=\u001b[0m \u001b[1;34m\"y = \"\u001b[0m \u001b[1;33m+\u001b[0m \u001b[0mstr\u001b[0m\u001b[1;33m(\u001b[0m\u001b[0mround\u001b[0m\u001b[1;33m(\u001b[0m\u001b[0mslope\u001b[0m\u001b[1;33m,\u001b[0m\u001b[1;36m2\u001b[0m\u001b[1;33m)\u001b[0m\u001b[1;33m)\u001b[0m \u001b[1;33m+\u001b[0m \u001b[1;34m\"x + \"\u001b[0m \u001b[1;33m+\u001b[0m \u001b[0mstr\u001b[0m\u001b[1;33m(\u001b[0m\u001b[0mround\u001b[0m\u001b[1;33m(\u001b[0m\u001b[0mintercept\u001b[0m\u001b[1;33m,\u001b[0m\u001b[1;36m2\u001b[0m\u001b[1;33m)\u001b[0m\u001b[1;33m)\u001b[0m\u001b[1;33m\u001b[0m\u001b[1;33m\u001b[0m\u001b[0m\n",
      "\u001b[1;32mC:\\ProgramData\\Anaconda3\\lib\\site-packages\\scipy\\stats\\_stats_mstats_common.py\u001b[0m in \u001b[0;36mlinregress\u001b[1;34m(x, y)\u001b[0m\n\u001b[0;32m    109\u001b[0m         \u001b[1;32mraise\u001b[0m \u001b[0mValueError\u001b[0m\u001b[1;33m(\u001b[0m\u001b[1;34m\"Inputs must not be empty.\"\u001b[0m\u001b[1;33m)\u001b[0m\u001b[1;33m\u001b[0m\u001b[1;33m\u001b[0m\u001b[0m\n\u001b[0;32m    110\u001b[0m \u001b[1;33m\u001b[0m\u001b[0m\n\u001b[1;32m--> 111\u001b[1;33m     \u001b[0mn\u001b[0m \u001b[1;33m=\u001b[0m \u001b[0mlen\u001b[0m\u001b[1;33m(\u001b[0m\u001b[0mx\u001b[0m\u001b[1;33m)\u001b[0m\u001b[1;33m\u001b[0m\u001b[1;33m\u001b[0m\u001b[0m\n\u001b[0m\u001b[0;32m    112\u001b[0m     \u001b[0mxmean\u001b[0m \u001b[1;33m=\u001b[0m \u001b[0mnp\u001b[0m\u001b[1;33m.\u001b[0m\u001b[0mmean\u001b[0m\u001b[1;33m(\u001b[0m\u001b[0mx\u001b[0m\u001b[1;33m,\u001b[0m \u001b[1;32mNone\u001b[0m\u001b[1;33m)\u001b[0m\u001b[1;33m\u001b[0m\u001b[1;33m\u001b[0m\u001b[0m\n\u001b[0;32m    113\u001b[0m     \u001b[0mymean\u001b[0m \u001b[1;33m=\u001b[0m \u001b[0mnp\u001b[0m\u001b[1;33m.\u001b[0m\u001b[0mmean\u001b[0m\u001b[1;33m(\u001b[0m\u001b[0my\u001b[0m\u001b[1;33m,\u001b[0m \u001b[1;32mNone\u001b[0m\u001b[1;33m)\u001b[0m\u001b[1;33m\u001b[0m\u001b[1;33m\u001b[0m\u001b[0m\n",
      "\u001b[1;31mTypeError\u001b[0m: len() of unsized object"
     ]
    }
   ],
   "source": [
    "x_values = total_case_data_Chi['temp'].astype\n",
    "y_values = total_case_data_Chi['totalcases'].astype(str)\n",
    "(slope, intercept, rvalue, pvalue, stderr) = linregress(x_values, y_values)\n",
    "regress_values = x_values * slope + intercept\n",
    "line_eq = \"y = \" + str(round(slope,2)) + \"x + \" + str(round(intercept,2))\n",
    "plt.scatter(x_values, y_values)\n",
    "plt.plot(x_values,regress_values,\"r-\")\n",
    "plt.annotate(line_eq,(0,50),fontsize=15,color=\"red\")\n",
    "plt.xlabel('Temperature')\n",
    "plt.ylabel('Total Cases')\n",
    "plt.savefig('Resources/Temperature_vs_Cases_for_Chicago.jpg')\n",
    "print(f\"The r-squared is: {rvalue**2}\")\n",
    "plt.show()"
   ]
  },
  {
   "cell_type": "code",
   "execution_count": null,
   "metadata": {},
   "outputs": [],
   "source": []
  }
 ],
 "metadata": {
  "kernelspec": {
   "display_name": "Python 3",
   "language": "python",
   "name": "python3"
  },
  "language_info": {
   "codemirror_mode": {
    "name": "ipython",
    "version": 3
   },
   "file_extension": ".py",
   "mimetype": "text/x-python",
   "name": "python",
   "nbconvert_exporter": "python",
   "pygments_lexer": "ipython3",
   "version": "3.8.3"
  }
 },
 "nbformat": 4,
 "nbformat_minor": 4
}
