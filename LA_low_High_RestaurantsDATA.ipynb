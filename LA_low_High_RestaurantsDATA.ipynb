{
 "cells": [
  {
   "cell_type": "code",
   "execution_count": null,
   "metadata": {},
   "outputs": [],
   "source": [
    "import json\n",
    "import requests\n",
    "import pandas as pd\n",
    "#from config import gkey\n",
    "from pprint import pprint\n",
    "import matplotlib.pyplot as plt\n",
    "from scipy.stats import linregress\n",
    "import numpy as np"
   ]
  },
  {
   "cell_type": "code",
   "execution_count": null,
   "metadata": {
    "scrolled": true
   },
   "outputs": [],
   "source": [
    "#Read the LA restaurants csv file \n",
    "file = \"Covid_LA.csv\"\n",
    "la_covid = pd.read_csv(file)\n",
    "la_covid.head()\n"
   ]
  },
  {
   "cell_type": "code",
   "execution_count": null,
   "metadata": {},
   "outputs": [],
   "source": [
    "#number of full-service restaurants in each city\n",
    "data = \"https://data.lacity.org/resource/6rrh-rzua.json?\"\n",
    "field = \"Full-service restaurants\"\n",
    "\n",
    "\n",
    "y= 0\n",
    "for x in la_covid['City']:\n",
    "    target = data + f\"city={x}\" + f\"&primary_naics_description={field}\" + \"&$limit=5000\"  \n",
    "    response = requests.get(target).json()\n",
    "    restaurants = len(response)\n",
    "    la_covid.loc[y, '# of restaurants'] = restaurants\n",
    "    y = y + 1\n",
    "    print(f\"Total of restaurants in city {x} is {restaurants}\")\n",
    "   "
   ]
  },
  {
   "cell_type": "code",
   "execution_count": null,
   "metadata": {},
   "outputs": [],
   "source": [
    "#city name to UpperCase\n",
    "la_covid['City'] = la_covid['City'].str.upper()\n",
    "la_covid.head()"
   ]
  },
  {
   "cell_type": "code",
   "execution_count": null,
   "metadata": {},
   "outputs": [],
   "source": [
    "la_covid.head(5)"
   ]
  },
  {
   "cell_type": "code",
   "execution_count": null,
   "metadata": {},
   "outputs": [],
   "source": [
    "#clean empty spaces \n",
    "indexNames = la_covid[(la_covid['Number_of_restaurants'] == 0)].index\n",
    "la_covid.drop(indexNames, inplace=True)\n",
    "la_covid.head()"
   ]
  },
  {
   "cell_type": "code",
   "execution_count": null,
   "metadata": {},
   "outputs": [],
   "source": [
    "#cleanup dataframe \n",
    "la_covid['Cases'] = la_covid['Cases'].astype(float)\n",
    "la_covid['Case_rate'] = la_covid['Case_rate'].astype(float)\n",
    "la_covid['Number_of_restaurans'] = la_covid['Number_of_restaurants'].astype(float)\n",
    "la_covid['Population'] = round(la_covid['Cases']/la_covid['Case_rate']*100000)\n",
    "#la_covid['Population'] = la_covid['Population'].astype(float)\n",
    "la_covid['Restaurants_per1k'] = (la_covid['Number_of_restaurants']/la_covid['Population']*1000)\n",
    "la_covid.head()"
   ]
  },
  {
   "cell_type": "code",
   "execution_count": null,
   "metadata": {},
   "outputs": [],
   "source": [
    "#plot \n",
    "case_rate = la_covid ['Case_rate']/1000\n",
    "restaurants = la_covid ['Restaurants_per1k']\n",
    "\n",
    "\n",
    "(slope, intercept, rvalue, pvalue, stderr) = linregress(restaurants, case_rate)\n",
    "regress_values = restaurants * slope + intercept\n",
    "line_eq = \"y = \" + str(round(slope,3)) + \"x + \" + str(round(intercept,2))\n",
    "\n",
    "\n",
    "plt.scatter(restaurants, case_rate)\n",
    "plt.plot(restaurants, regress_values, \"r-\")\n",
    "plt.annotate(line_eq,(8,2),fontsize=15,color=\"black\")\n",
    "plt.xlabel('Restaurants per 1k capita')\n",
    "plt.ylabel('Cumulative Cases (%)')\n",
    "plt.title('Cases vs Restaurants in LA')\n",
    "#plt.xlim(0, 0.04)\n",
    "plt.savefig('Cases_vs_Restaurants_LA_full')\n",
    "plt.show()\n",
    "print(f\"The r value is {round(rvalue,2)}\")\n",
    "print(f\"The p value is {round(pvalue, 2)}\")"
   ]
  },
  {
   "cell_type": "code",
   "execution_count": null,
   "metadata": {},
   "outputs": [],
   "source": [
    "#open and write to new csv file \n",
    "la_covid.to_csv('Cases_vs_La_Restaurants.csv')\n"
   ]
  },
  {
   "cell_type": "code",
   "execution_count": null,
   "metadata": {},
   "outputs": [],
   "source": [
    "\n",
    "# Calculate the quantitatively determine if there are any potential outliers. \\n\",\n",
    "quartiles = la_covid['Restaurants_per1k'].quantile([.25,.5,.75])\n",
    "lowerq = quartiles[0.25]\n",
    "upperq = quartiles[0.75]\n",
    "iqr = upperq-lowerq\n",
    "lower_bound = lowerq - (1.5*iqr)\n",
    "upper_bound = upperq + (1.5*iqr)\n",
    "\n",
    "la_covid_adj = la_covid.loc[(la_covid['Restaurants_per1k'] < upper_bound) & (la_covid['Restaurants_per1k'] > lower_bound)]\n",
    "print(len(la_covid))\n",
    "print(len(la_covid_adj))\n"
   ]
  },
  {
   "cell_type": "code",
   "execution_count": null,
   "metadata": {},
   "outputs": [],
   "source": [
    "#plot with outliers removed\n",
    "restaurants_adj = la_covid_adj['Restaurants_per1k']\n",
    "cases_adj = la_covid_adj['Case_rate']/1000\n",
    "\n",
    "(slope, intercept, rvalue, pvalue, stderr) = linregress(restaurants_adj, cases_adj)\n",
    "regress_values = restaurants_adj * slope + intercept\n",
    "line_eq = \"y = \" + str(round(slope,2)) + \"x + \" + str(round(intercept,2))\n",
    "\n",
    "plt.scatter(restaurants_adj, cases_adj)\n",
    "plt.plot(restaurants_adj,regress_values,\"r-\")\n",
    "plt.annotate(line_eq,(1.25,4),fontsize=15,color=\"black\")\n",
    "plt.annotate(f\"The r value is {round(rvalue,2)}\", (1.25,3.5))\n",
    "plt.xlabel('Restaurants per 1k capita')\n",
    "plt.ylabel('Cumulative Cases (%)')\n",
    "plt.title('Cases vs restaurants in LA')\n",
    "#plt.xlim(0,4)\n",
    "plt.savefig('Cases_vs_restaurants_LA_Adj')\n",
    "plt.show()\n",
    "print(f\"The r value is {round(rvalue,2)}\")\n",
    "print(f\"The p value is {round(pvalue, 2)}\")"
   ]
  },
  {
   "cell_type": "code",
   "execution_count": null,
   "metadata": {},
   "outputs": [],
   "source": [
    "#find the low for the restaurant \n",
    "lacovid_low = la_covid.loc[(la_covid['Restaurants_per1k']>0.023) & (la_covid['Restaurants_per1k']<0.025)]\n",
    "lacovid_low_covid= lacovid_low['Cases']\n",
    "lacovid_low_covid\n"
   ]
  },
  {
   "cell_type": "code",
   "execution_count": null,
   "metadata": {},
   "outputs": [],
   "source": [
    "#show the data Getting an error here \n",
    "data = \"https://data.lacity.org/resource/6rrh-rzua.json?\"\n",
    "target  = data + f\"&Cases =1544.0\"\n",
    "response = requests.get(target).json()\n",
    "pprint (response)"
   ]
  },
  {
   "cell_type": "code",
   "execution_count": null,
   "metadata": {},
   "outputs": [],
   "source": [
    "timeline_low = pd.DataFrame()\n",
    "timeline_low['Week']=[]\n",
    "timeline_low['case_rate_weekly']=[]"
   ]
  },
  {
   "cell_type": "code",
   "execution_count": null,
   "metadata": {},
   "outputs": [],
   "source": [
    "for x in range(len(response)):\n",
    "    try: \n",
    "        week = response[x]['week_number']\n",
    "        case_rate =response[x]['case_rate_weekly']\n",
    "        timeline_low.loc[x,'Week']= week\n",
    "        timeline_low.loc[x,'case_rate_weekly']= case_rate\n",
    "    except: KeyError\n",
    "        \n",
    "timeline_low1 = timeline_low.sort_values(by=['Week'])\n",
    "timeline_low1\n"
   ]
  },
  {
   "cell_type": "code",
   "execution_count": null,
   "metadata": {},
   "outputs": [],
   "source": [
    "#find the high for the restaurant \n",
    "lacovid_high = la_covid.loc[(la_covid['Restaurants_per1k']>0.005) & (la_covid['Restaurants_per1k']<0.005)]\n",
    "lacovid_high_covid= lacovid_high['Cases']\n",
    "lacovid_high_covid"
   ]
  },
  {
   "cell_type": "code",
   "execution_count": null,
   "metadata": {},
   "outputs": [],
   "source": [
    "#print out the data Getting an error \n",
    "data = \"https://data.lacity.org/resource/6rrh-rzua.json?\"\n",
    "target  = data + f\"&Cases =\"\n",
    "response = requests.get(target).json()\n",
    "pprint (response)"
   ]
  },
  {
   "cell_type": "code",
   "execution_count": null,
   "metadata": {},
   "outputs": [],
   "source": [
    "timeline_high = pd.DataFrame()\n",
    "timeline_high['Week']=[]\n",
    "timeline_high['case_rate_weekly']=[]"
   ]
  },
  {
   "cell_type": "code",
   "execution_count": null,
   "metadata": {},
   "outputs": [],
   "source": [
    "for x in range(len(response)):\n",
    "    try: \n",
    "        week = response[x]['week_number']\n",
    "        case_rate =response[x]['case_rate_weekly']\n",
    "        timeline_high.loc[x,'Week']= week\n",
    "        timeline_high.loc[x,'case_rate_weekly']= case_rate\n",
    "    except: KeyError\n",
    "        \n",
    "timeline_high1 = timeline_high.sort_values(by=['Week'])\n",
    "timeline_high1"
   ]
  },
  {
   "cell_type": "code",
   "execution_count": null,
   "metadata": {},
   "outputs": [],
   "source": [
    "#create the timeline \n",
    "timeline_high1 = timeline_high.sort_values(by=['Week'])\n",
    "timeline_high1"
   ]
  },
  {
   "cell_type": "code",
   "execution_count": null,
   "metadata": {},
   "outputs": [],
   "source": [
    "#plot time by week\n",
    "x1 = timeline_low1['Week'].astype(float)\n",
    "x2 = timeline_high1['Week'].astype(float)\n",
    "y1 = timeline_low1['case_rate_weekly'].astype(float)\n",
    "y2 = timeline_high1['case_rate_weekly'].astype(float)\n",
    "plt.plot(x1,y1,)\n",
    "plt.plot(x2,y2,)\n",
    "plt.legend(['Many Restaurants', 'Few Restaurants'],loc='best')\n",
    "plt.title('Covid case timeline')\n",
    "plt.xlabel('Week')\n",
    "plt.ylabel('Case rate (/100k)')\n",
    "plt.savefig('Covid_timeline_Low_vs_High_Restaurant_density')\n",
    "plt.show()"
   ]
  }
 ],
 "metadata": {
  "kernelspec": {
   "display_name": "Python 3",
   "language": "python",
   "name": "python3"
  },
  "language_info": {
   "codemirror_mode": {
    "name": "ipython",
    "version": 3
   },
   "file_extension": ".py",
   "mimetype": "text/x-python",
   "name": "python",
   "nbconvert_exporter": "python",
   "pygments_lexer": "ipython3",
   "version": "3.6.10"
  }
 },
 "nbformat": 4,
 "nbformat_minor": 4
}
