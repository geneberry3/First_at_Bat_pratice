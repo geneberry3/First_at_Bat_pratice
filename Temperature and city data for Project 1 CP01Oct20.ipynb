{
 "cells": [
  {
   "cell_type": "code",
   "execution_count": 1,
   "metadata": {},
   "outputs": [],
   "source": [
    "import matplotlib.pyplot as plt\n",
    "import pandas as pd\n",
    "import numpy as np\n",
    "import requests\n",
    "import time\n",
    "from scipy.stats import linregress\n",
    "from pprint import pprint\n",
    "import json"
   ]
  },
  {
   "cell_type": "code",
   "execution_count": null,
   "metadata": {},
   "outputs": [],
   "source": [
    "url = 'https://www.ncdc.noaa.gov/cdo-web/api/v2/data?'\n",
    "weather_api_key = 'SNgmcXFbYKwygdszKKSRgGkPveUMeXSQ'\n",
    "station = 'GHCND:USW00093134'\n",
    "count = 0 \n",
    "\n",
    "    query_url = url + \"lat=\" + Lat +\"&lon=\" + Lng + '&units=Imperial' + '&appid=' + weather_api_key  \n",
    "    weather_response = requests.get(query_url)\n",
    "    weather_response = weather_response.json()\n",
    "    \n",
    "    #pprint(weather_response)\n",
    "    \n",
    "    try:\n",
    "        cities_df.loc[index, 'City_Name'] = weather_response['name']\n",
    "        cities_df.loc[index, 'Humidity'] = weather_response['main']['humidity']\n",
    "        cities_df.loc[index, 'Max_Temp'] = weather_response['main']['temp_max']\n",
    "        cities_df.loc[index, 'Wind_Speed'] = weather_response['wind']['speed']\n",
    "        cities_df.loc[index, 'Cloudiness'] = weather_response['clouds']['all']\n",
    "        cities_df.loc[index, 'Date'] = weather_response['dt']\n",
    "        count += 1\n",
    "        print(f'The reocrd count is {count} City: {city}')\n",
    "        \n",
    "    except (KeyError, IndexError):\n",
    "        print('Record not found')\n",
    "        pass\n",
    "    \n",
    "len(cities_df)"
   ]
  }
 ],
 "metadata": {
  "kernelspec": {
   "display_name": "Python 3",
   "language": "python",
   "name": "python3"
  },
  "language_info": {
   "codemirror_mode": {
    "name": "ipython",
    "version": 3
   },
   "file_extension": ".py",
   "mimetype": "text/x-python",
   "name": "python",
   "nbconvert_exporter": "python",
   "pygments_lexer": "ipython3",
   "version": "3.8.3"
  }
 },
 "nbformat": 4,
 "nbformat_minor": 4
}
