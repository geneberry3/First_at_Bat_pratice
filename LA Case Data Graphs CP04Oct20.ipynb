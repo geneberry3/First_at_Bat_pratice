{
 "cells": [
  {
   "cell_type": "code",
   "execution_count": 11,
   "metadata": {},
   "outputs": [],
   "source": [
    "import pandas as pd\n",
    "import json\n",
    "import numpy as np\n",
    "import seaborn as sns\n",
    "\n",
    "from datetime import datetime\n",
    "import matplotlib.pyplot as plt\n",
    "import scipy.stats as st\n",
    "from scipy.stats import linregress"
   ]
  },
  {
   "cell_type": "code",
   "execution_count": 12,
   "metadata": {},
   "outputs": [
    {
     "data": {
      "text/html": [
       "<div>\n",
       "<style scoped>\n",
       "    .dataframe tbody tr th:only-of-type {\n",
       "        vertical-align: middle;\n",
       "    }\n",
       "\n",
       "    .dataframe tbody tr th {\n",
       "        vertical-align: top;\n",
       "    }\n",
       "\n",
       "    .dataframe thead th {\n",
       "        text-align: right;\n",
       "    }\n",
       "</style>\n",
       "<table border=\"1\" class=\"dataframe\">\n",
       "  <thead>\n",
       "    <tr style=\"text-align: right;\">\n",
       "      <th></th>\n",
       "      <th>dt_iso</th>\n",
       "      <th>city_name</th>\n",
       "      <th>lat</th>\n",
       "      <th>lon</th>\n",
       "      <th>temp</th>\n",
       "      <th>feels_like</th>\n",
       "      <th>temp_min</th>\n",
       "      <th>temp_max</th>\n",
       "      <th>pressure</th>\n",
       "      <th>humidity</th>\n",
       "      <th>wind_speed</th>\n",
       "      <th>totalcountconfirmed</th>\n",
       "      <th>totalcountdeaths</th>\n",
       "    </tr>\n",
       "  </thead>\n",
       "  <tbody>\n",
       "    <tr>\n",
       "      <th>0</th>\n",
       "      <td>3/18/2020</td>\n",
       "      <td>Los Angeles</td>\n",
       "      <td>34.052234</td>\n",
       "      <td>-118.243685</td>\n",
       "      <td>50.826667</td>\n",
       "      <td>45.187917</td>\n",
       "      <td>45.707083</td>\n",
       "      <td>57.547083</td>\n",
       "      <td>1009.875000</td>\n",
       "      <td>53.333333</td>\n",
       "      <td>4.130417</td>\n",
       "      <td>47</td>\n",
       "      <td>0</td>\n",
       "    </tr>\n",
       "    <tr>\n",
       "      <th>1</th>\n",
       "      <td>3/19/2020</td>\n",
       "      <td>Los Angeles</td>\n",
       "      <td>34.052234</td>\n",
       "      <td>-118.243685</td>\n",
       "      <td>53.260417</td>\n",
       "      <td>47.539583</td>\n",
       "      <td>47.501667</td>\n",
       "      <td>58.482917</td>\n",
       "      <td>1012.791667</td>\n",
       "      <td>60.666667</td>\n",
       "      <td>6.117083</td>\n",
       "      <td>233</td>\n",
       "      <td>0</td>\n",
       "    </tr>\n",
       "    <tr>\n",
       "      <th>2</th>\n",
       "      <td>3/20/2020</td>\n",
       "      <td>Los Angeles</td>\n",
       "      <td>34.052234</td>\n",
       "      <td>-118.243685</td>\n",
       "      <td>54.625417</td>\n",
       "      <td>49.964167</td>\n",
       "      <td>49.251250</td>\n",
       "      <td>59.370417</td>\n",
       "      <td>1020.583333</td>\n",
       "      <td>61.875000</td>\n",
       "      <td>4.886667</td>\n",
       "      <td>267</td>\n",
       "      <td>1</td>\n",
       "    </tr>\n",
       "    <tr>\n",
       "      <th>3</th>\n",
       "      <td>3/21/2020</td>\n",
       "      <td>Los Angeles</td>\n",
       "      <td>34.052234</td>\n",
       "      <td>-118.243685</td>\n",
       "      <td>57.434583</td>\n",
       "      <td>53.649583</td>\n",
       "      <td>52.732917</td>\n",
       "      <td>61.844167</td>\n",
       "      <td>1018.833333</td>\n",
       "      <td>62.666667</td>\n",
       "      <td>4.392917</td>\n",
       "      <td>322</td>\n",
       "      <td>2</td>\n",
       "    </tr>\n",
       "    <tr>\n",
       "      <th>4</th>\n",
       "      <td>3/22/2020</td>\n",
       "      <td>Los Angeles</td>\n",
       "      <td>34.052234</td>\n",
       "      <td>-118.243685</td>\n",
       "      <td>56.878750</td>\n",
       "      <td>52.607083</td>\n",
       "      <td>52.165833</td>\n",
       "      <td>62.462500</td>\n",
       "      <td>1018.791667</td>\n",
       "      <td>59.750000</td>\n",
       "      <td>4.499583</td>\n",
       "      <td>384</td>\n",
       "      <td>3</td>\n",
       "    </tr>\n",
       "  </tbody>\n",
       "</table>\n",
       "</div>"
      ],
      "text/plain": [
       "      dt_iso    city_name        lat         lon       temp  feels_like  \\\n",
       "0  3/18/2020  Los Angeles  34.052234 -118.243685  50.826667   45.187917   \n",
       "1  3/19/2020  Los Angeles  34.052234 -118.243685  53.260417   47.539583   \n",
       "2  3/20/2020  Los Angeles  34.052234 -118.243685  54.625417   49.964167   \n",
       "3  3/21/2020  Los Angeles  34.052234 -118.243685  57.434583   53.649583   \n",
       "4  3/22/2020  Los Angeles  34.052234 -118.243685  56.878750   52.607083   \n",
       "\n",
       "    temp_min   temp_max     pressure   humidity  wind_speed  \\\n",
       "0  45.707083  57.547083  1009.875000  53.333333    4.130417   \n",
       "1  47.501667  58.482917  1012.791667  60.666667    6.117083   \n",
       "2  49.251250  59.370417  1020.583333  61.875000    4.886667   \n",
       "3  52.732917  61.844167  1018.833333  62.666667    4.392917   \n",
       "4  52.165833  62.462500  1018.791667  59.750000    4.499583   \n",
       "\n",
       "   totalcountconfirmed  totalcountdeaths  \n",
       "0                   47                 0  \n",
       "1                  233                 0  \n",
       "2                  267                 1  \n",
       "3                  322                 2  \n",
       "4                  384                 3  "
      ]
     },
     "execution_count": 12,
     "metadata": {},
     "output_type": "execute_result"
    }
   ],
   "source": [
    "file = 'Resources/LA_temp_and_case_data_df.csv'\n",
    "total_case_data_LA = pd.read_csv(file)\n",
    "total_case_data_LA.head()"
   ]
  },
  {
   "cell_type": "code",
   "execution_count": 13,
   "metadata": {},
   "outputs": [
    {
     "data": {
      "text/plain": [
       "dt_iso                  object\n",
       "city_name               object\n",
       "lat                    float64\n",
       "lon                    float64\n",
       "temp                   float64\n",
       "feels_like             float64\n",
       "temp_min               float64\n",
       "temp_max               float64\n",
       "pressure               float64\n",
       "humidity               float64\n",
       "wind_speed             float64\n",
       "totalcountconfirmed      int64\n",
       "totalcountdeaths         int64\n",
       "dtype: object"
      ]
     },
     "execution_count": 13,
     "metadata": {},
     "output_type": "execute_result"
    }
   ],
   "source": [
    "total_case_data_LA.dtypes"
   ]
  },
  {
   "cell_type": "code",
   "execution_count": 14,
   "metadata": {},
   "outputs": [
    {
     "data": {
      "image/png": "[encoded data removed]",
      "text/plain": [
       "<Figure size 432x288 with 1 Axes>"
      ]
     },
     "metadata": {
      "needs_background": "light"
     },
     "output_type": "display_data"
    }
   ],
   "source": [
    "xvalue = total_case_data_LA['dt_iso']\n",
    "yvalue = total_case_data_LA['temp']\n",
    "cases = total_case_data_LA['totalcountconfirmed']\n",
    "plt.plot(xvalue, yvalue, marker='o', color='red', linewidth=1)\n",
    "\n",
    "plt.xlabel('Date')\n",
    "plt.ylabel('Temperature' \n",
    "           'degrees F')\n",
    "\n",
    "\n",
    "plt.title('Temperature of LA')\n",
    "plt.savefig('Resources/Temperature_of_LA.jpg')\n",
    "plt.show()\n",
    "           "
   ]
  },
  {
   "cell_type": "code",
   "execution_count": 15,
   "metadata": {},
   "outputs": [
    {
     "data": {
      "image/png": "[encoded data removed]",
      "text/plain": [
       "<Figure size 432x288 with 1 Axes>"
      ]
     },
     "metadata": {
      "needs_background": "light"
     },
     "output_type": "display_data"
    }
   ],
   "source": [
    "xvalue = total_case_data_LA['dt_iso']\n",
    "\n",
    "cases = total_case_data_LA['totalcountconfirmed']\n",
    "plt.plot(xvalue, cases, marker='o', color='blue', linewidth=1)\n",
    "\n",
    "plt.xlabel('Date')\n",
    "plt.ylabel('Number of Cases') \n",
    "plt.savefig('Resources/Cases_and_dates_for_LA.jpg')          \n",
    "plt.title('Number of confirmed cases in LA')\n",
    "plt.show()"
   ]
  },
  {
   "cell_type": "code",
   "execution_count": 16,
   "metadata": {},
   "outputs": [
    {
     "data": {
      "image/png": "[encoded data removed]",
      "text/plain": [
       "<Figure size 432x288 with 1 Axes>"
      ]
     },
     "metadata": {
      "needs_background": "light"
     },
     "output_type": "display_data"
    }
   ],
   "source": [
    "yvalue = total_case_data_LA['temp']\n",
    "cases = cases = total_case_data_LA['totalcountconfirmed']\n",
    "plt.scatter(yvalue, cases, marker='o', color='blue',)\n",
    "plt.xlabel('Temperature')\n",
    "plt.ylabel('Cases')\n",
    "plt.title('Cases vs Temperature for LA')\n",
    "plt.savefig('Resources/Cases_vs_Temperature_for_LA.jpg')\n",
    "\n",
    "plt.show()\n",
    "\n"
   ]
  },
  {
   "cell_type": "code",
   "execution_count": 17,
   "metadata": {},
   "outputs": [
    {
     "name": "stdout",
     "output_type": "stream",
     "text": [
      "Pearson Correlation is 0.61\n"
     ]
    }
   ],
   "source": [
    "yvalue = total_case_data_LA['temp']\n",
    "cases = cases = total_case_data_LA['totalcountconfirmed']\n",
    "correlation = st.pearsonr(yvalue,cases)\n",
    "print(f'Pearson Correlation is {round(correlation[0],2)}')"
   ]
  },
  {
   "cell_type": "code",
   "execution_count": 18,
   "metadata": {},
   "outputs": [
    {
     "name": "stdout",
     "output_type": "stream",
     "text": [
      "The lower quartile of temperatures is: 63.869375000000005\n",
      "The upper quartile of temperatures is: 70.567291665\n",
      "The interquartile range of temperatures is: 6.697916664999994\n",
      "The the median of temperatures is: 67.66666667 \n",
      "Values below 53.822500002500014 could be outliers.\n",
      "Values above 80.6141666625 could be outliers.\n"
     ]
    }
   ],
   "source": [
    "temperatures = total_case_data_LA['temp']\n",
    "quartiles = temperatures.quantile([.25,.5,.75])\n",
    "lowerq = quartiles[0.25]\n",
    "upperq = quartiles[0.75]\n",
    "iqr = upperq-lowerq\n",
    "\n",
    "print(f\"The lower quartile of temperatures is: {lowerq}\")\n",
    "print(f\"The upper quartile of temperatures is: {upperq}\")\n",
    "print(f\"The interquartile range of temperatures is: {iqr}\")\n",
    "print(f\"The the median of temperatures is: {quartiles[0.5]} \")\n",
    "\n",
    "lower_bound = lowerq - (1.5*iqr)\n",
    "upper_bound = upperq + (1.5*iqr)\n",
    "print(f\"Values below {lower_bound} could be outliers.\")\n",
    "print(f\"Values above {upper_bound} could be outliers.\")"
   ]
  },
  {
   "cell_type": "code",
   "execution_count": 19,
   "metadata": {},
   "outputs": [
    {
     "name": "stdout",
     "output_type": "stream",
     "text": [
      "The lower quartile of cases is: 18848.5\n",
      "The upper quartile of cases is: 124262.0\n",
      "The interquartile range of cases is: 105413.5\n",
      "The the median of cases is: 55899.0 \n",
      "Values below -139271.75 could be outliers.\n",
      "Values above 282382.25 could be outliers.\n"
     ]
    }
   ],
   "source": [
    "temperatures = total_case_data_LA['totalcountconfirmed']\n",
    "quartiles = temperatures.quantile([.25,.5,.75])\n",
    "lowerq = quartiles[0.25]\n",
    "upperq = quartiles[0.75]\n",
    "iqr = upperq-lowerq\n",
    "\n",
    "print(f\"The lower quartile of cases is: {lowerq}\")\n",
    "print(f\"The upper quartile of cases is: {upperq}\")\n",
    "print(f\"The interquartile range of cases is: {iqr}\")\n",
    "print(f\"The the median of cases is: {quartiles[0.5]} \")\n",
    "\n",
    "lower_bound = lowerq - (1.5*iqr)\n",
    "upper_bound = upperq + (1.5*iqr)\n",
    "print(f\"Values below {lower_bound} could be outliers.\")\n",
    "print(f\"Values above {upper_bound} could be outliers.\")"
   ]
  },
  {
   "cell_type": "code",
   "execution_count": 20,
   "metadata": {},
   "outputs": [
    {
     "data": {
      "text/html": [
       "<div>\n",
       "<style scoped>\n",
       "    .dataframe tbody tr th:only-of-type {\n",
       "        vertical-align: middle;\n",
       "    }\n",
       "\n",
       "    .dataframe tbody tr th {\n",
       "        vertical-align: top;\n",
       "    }\n",
       "\n",
       "    .dataframe thead th {\n",
       "        text-align: right;\n",
       "    }\n",
       "</style>\n",
       "<table border=\"1\" class=\"dataframe\">\n",
       "  <thead>\n",
       "    <tr style=\"text-align: right;\">\n",
       "      <th></th>\n",
       "      <th>lat</th>\n",
       "      <th>lon</th>\n",
       "      <th>temp</th>\n",
       "      <th>feels_like</th>\n",
       "      <th>temp_min</th>\n",
       "      <th>temp_max</th>\n",
       "      <th>pressure</th>\n",
       "      <th>humidity</th>\n",
       "      <th>wind_speed</th>\n",
       "      <th>totalcountconfirmed</th>\n",
       "      <th>totalcountdeaths</th>\n",
       "    </tr>\n",
       "  </thead>\n",
       "  <tbody>\n",
       "    <tr>\n",
       "      <th>lat</th>\n",
       "      <td>1.000000e+00</td>\n",
       "      <td>1.000000e+00</td>\n",
       "      <td>-1.365961e-15</td>\n",
       "      <td>1.842964e-15</td>\n",
       "      <td>1.056359e-15</td>\n",
       "      <td>-5.636957e-16</td>\n",
       "      <td>-2.654609e-13</td>\n",
       "      <td>-4.897500e-16</td>\n",
       "      <td>3.986524e-15</td>\n",
       "      <td>-1.489255e-15</td>\n",
       "      <td>5.322220e-16</td>\n",
       "    </tr>\n",
       "    <tr>\n",
       "      <th>lon</th>\n",
       "      <td>1.000000e+00</td>\n",
       "      <td>1.000000e+00</td>\n",
       "      <td>-1.284589e-15</td>\n",
       "      <td>2.153484e-15</td>\n",
       "      <td>1.541161e-15</td>\n",
       "      <td>-4.596660e-16</td>\n",
       "      <td>-2.654609e-13</td>\n",
       "      <td>-5.000741e-16</td>\n",
       "      <td>3.996835e-15</td>\n",
       "      <td>1.439613e-15</td>\n",
       "      <td>1.447010e-15</td>\n",
       "    </tr>\n",
       "    <tr>\n",
       "      <th>temp</th>\n",
       "      <td>-1.365961e-15</td>\n",
       "      <td>-1.284589e-15</td>\n",
       "      <td>1.000000e+00</td>\n",
       "      <td>9.848172e-01</td>\n",
       "      <td>9.844178e-01</td>\n",
       "      <td>9.885123e-01</td>\n",
       "      <td>-5.488780e-01</td>\n",
       "      <td>-2.686287e-01</td>\n",
       "      <td>-2.722987e-01</td>\n",
       "      <td>6.070648e-01</td>\n",
       "      <td>6.900471e-01</td>\n",
       "    </tr>\n",
       "    <tr>\n",
       "      <th>feels_like</th>\n",
       "      <td>1.842964e-15</td>\n",
       "      <td>2.153484e-15</td>\n",
       "      <td>9.848172e-01</td>\n",
       "      <td>1.000000e+00</td>\n",
       "      <td>9.657594e-01</td>\n",
       "      <td>9.802009e-01</td>\n",
       "      <td>-5.678986e-01</td>\n",
       "      <td>-1.072084e-01</td>\n",
       "      <td>-2.837599e-01</td>\n",
       "      <td>6.711283e-01</td>\n",
       "      <td>7.467428e-01</td>\n",
       "    </tr>\n",
       "    <tr>\n",
       "      <th>temp_min</th>\n",
       "      <td>1.056359e-15</td>\n",
       "      <td>1.541161e-15</td>\n",
       "      <td>9.844178e-01</td>\n",
       "      <td>9.657594e-01</td>\n",
       "      <td>1.000000e+00</td>\n",
       "      <td>9.514271e-01</td>\n",
       "      <td>-5.667543e-01</td>\n",
       "      <td>-2.666793e-01</td>\n",
       "      <td>-2.574457e-01</td>\n",
       "      <td>5.806816e-01</td>\n",
       "      <td>6.859612e-01</td>\n",
       "    </tr>\n",
       "    <tr>\n",
       "      <th>temp_max</th>\n",
       "      <td>-5.636957e-16</td>\n",
       "      <td>-4.596660e-16</td>\n",
       "      <td>9.885123e-01</td>\n",
       "      <td>9.802009e-01</td>\n",
       "      <td>9.514271e-01</td>\n",
       "      <td>1.000000e+00</td>\n",
       "      <td>-5.269769e-01</td>\n",
       "      <td>-2.459606e-01</td>\n",
       "      <td>-2.811056e-01</td>\n",
       "      <td>6.260452e-01</td>\n",
       "      <td>6.897134e-01</td>\n",
       "    </tr>\n",
       "    <tr>\n",
       "      <th>pressure</th>\n",
       "      <td>-2.654609e-13</td>\n",
       "      <td>-2.654609e-13</td>\n",
       "      <td>-5.488780e-01</td>\n",
       "      <td>-5.678986e-01</td>\n",
       "      <td>-5.667543e-01</td>\n",
       "      <td>-5.269769e-01</td>\n",
       "      <td>1.000000e+00</td>\n",
       "      <td>-5.350853e-02</td>\n",
       "      <td>-9.923951e-02</td>\n",
       "      <td>-4.341330e-01</td>\n",
       "      <td>-5.288058e-01</td>\n",
       "    </tr>\n",
       "    <tr>\n",
       "      <th>humidity</th>\n",
       "      <td>-4.897500e-16</td>\n",
       "      <td>-5.000741e-16</td>\n",
       "      <td>-2.686287e-01</td>\n",
       "      <td>-1.072084e-01</td>\n",
       "      <td>-2.666793e-01</td>\n",
       "      <td>-2.459606e-01</td>\n",
       "      <td>-5.350853e-02</td>\n",
       "      <td>1.000000e+00</td>\n",
       "      <td>2.155630e-01</td>\n",
       "      <td>2.317994e-01</td>\n",
       "      <td>2.049657e-01</td>\n",
       "    </tr>\n",
       "    <tr>\n",
       "      <th>wind_speed</th>\n",
       "      <td>3.986524e-15</td>\n",
       "      <td>3.996835e-15</td>\n",
       "      <td>-2.722987e-01</td>\n",
       "      <td>-2.837599e-01</td>\n",
       "      <td>-2.574457e-01</td>\n",
       "      <td>-2.811056e-01</td>\n",
       "      <td>-9.923951e-02</td>\n",
       "      <td>2.155630e-01</td>\n",
       "      <td>1.000000e+00</td>\n",
       "      <td>-6.241731e-02</td>\n",
       "      <td>-4.047361e-02</td>\n",
       "    </tr>\n",
       "    <tr>\n",
       "      <th>totalcountconfirmed</th>\n",
       "      <td>-1.489255e-15</td>\n",
       "      <td>1.439613e-15</td>\n",
       "      <td>6.070648e-01</td>\n",
       "      <td>6.711283e-01</td>\n",
       "      <td>5.806816e-01</td>\n",
       "      <td>6.260452e-01</td>\n",
       "      <td>-4.341330e-01</td>\n",
       "      <td>2.317994e-01</td>\n",
       "      <td>-6.241731e-02</td>\n",
       "      <td>1.000000e+00</td>\n",
       "      <td>9.640120e-01</td>\n",
       "    </tr>\n",
       "    <tr>\n",
       "      <th>totalcountdeaths</th>\n",
       "      <td>5.322220e-16</td>\n",
       "      <td>1.447010e-15</td>\n",
       "      <td>6.900471e-01</td>\n",
       "      <td>7.467428e-01</td>\n",
       "      <td>6.859612e-01</td>\n",
       "      <td>6.897134e-01</td>\n",
       "      <td>-5.288058e-01</td>\n",
       "      <td>2.049657e-01</td>\n",
       "      <td>-4.047361e-02</td>\n",
       "      <td>9.640120e-01</td>\n",
       "      <td>1.000000e+00</td>\n",
       "    </tr>\n",
       "  </tbody>\n",
       "</table>\n",
       "</div>"
      ],
      "text/plain": [
       "                              lat           lon          temp    feels_like  \\\n",
       "lat                  1.000000e+00  1.000000e+00 -1.365961e-15  1.842964e-15   \n",
       "lon                  1.000000e+00  1.000000e+00 -1.284589e-15  2.153484e-15   \n",
       "temp                -1.365961e-15 -1.284589e-15  1.000000e+00  9.848172e-01   \n",
       "feels_like           1.842964e-15  2.153484e-15  9.848172e-01  1.000000e+00   \n",
       "temp_min             1.056359e-15  1.541161e-15  9.844178e-01  9.657594e-01   \n",
       "temp_max            -5.636957e-16 -4.596660e-16  9.885123e-01  9.802009e-01   \n",
       "pressure            -2.654609e-13 -2.654609e-13 -5.488780e-01 -5.678986e-01   \n",
       "humidity            -4.897500e-16 -5.000741e-16 -2.686287e-01 -1.072084e-01   \n",
       "wind_speed           3.986524e-15  3.996835e-15 -2.722987e-01 -2.837599e-01   \n",
       "totalcountconfirmed -1.489255e-15  1.439613e-15  6.070648e-01  6.711283e-01   \n",
       "totalcountdeaths     5.322220e-16  1.447010e-15  6.900471e-01  7.467428e-01   \n",
       "\n",
       "                         temp_min      temp_max      pressure      humidity  \\\n",
       "lat                  1.056359e-15 -5.636957e-16 -2.654609e-13 -4.897500e-16   \n",
       "lon                  1.541161e-15 -4.596660e-16 -2.654609e-13 -5.000741e-16   \n",
       "temp                 9.844178e-01  9.885123e-01 -5.488780e-01 -2.686287e-01   \n",
       "feels_like           9.657594e-01  9.802009e-01 -5.678986e-01 -1.072084e-01   \n",
       "temp_min             1.000000e+00  9.514271e-01 -5.667543e-01 -2.666793e-01   \n",
       "temp_max             9.514271e-01  1.000000e+00 -5.269769e-01 -2.459606e-01   \n",
       "pressure            -5.667543e-01 -5.269769e-01  1.000000e+00 -5.350853e-02   \n",
       "humidity            -2.666793e-01 -2.459606e-01 -5.350853e-02  1.000000e+00   \n",
       "wind_speed          -2.574457e-01 -2.811056e-01 -9.923951e-02  2.155630e-01   \n",
       "totalcountconfirmed  5.806816e-01  6.260452e-01 -4.341330e-01  2.317994e-01   \n",
       "totalcountdeaths     6.859612e-01  6.897134e-01 -5.288058e-01  2.049657e-01   \n",
       "\n",
       "                       wind_speed  totalcountconfirmed  totalcountdeaths  \n",
       "lat                  3.986524e-15        -1.489255e-15      5.322220e-16  \n",
       "lon                  3.996835e-15         1.439613e-15      1.447010e-15  \n",
       "temp                -2.722987e-01         6.070648e-01      6.900471e-01  \n",
       "feels_like          -2.837599e-01         6.711283e-01      7.467428e-01  \n",
       "temp_min            -2.574457e-01         5.806816e-01      6.859612e-01  \n",
       "temp_max            -2.811056e-01         6.260452e-01      6.897134e-01  \n",
       "pressure            -9.923951e-02        -4.341330e-01     -5.288058e-01  \n",
       "humidity             2.155630e-01         2.317994e-01      2.049657e-01  \n",
       "wind_speed           1.000000e+00        -6.241731e-02     -4.047361e-02  \n",
       "totalcountconfirmed -6.241731e-02         1.000000e+00      9.640120e-01  \n",
       "totalcountdeaths    -4.047361e-02         9.640120e-01      1.000000e+00  "
      ]
     },
     "execution_count": 20,
     "metadata": {},
     "output_type": "execute_result"
    }
   ],
   "source": [
    "correlations = total_case_data_LA.corr()\n",
    "correlations"
   ]
  },
  {
   "cell_type": "code",
   "execution_count": 21,
   "metadata": {},
   "outputs": [
    {
     "data": {
      "image/png": "[encoded data removed]",
      "text/plain": [
       "<Figure size 432x288 with 2 Axes>"
      ]
     },
     "metadata": {
      "needs_background": "light"
     },
     "output_type": "display_data"
    }
   ],
   "source": [
    "sns.heatmap(correlations.round(1), annot=True)\n",
    "plt.savefig('Resources/heat_map_LA_data.jpg')"
   ]
  },
  {
   "cell_type": "code",
   "execution_count": 22,
   "metadata": {},
   "outputs": [
    {
     "name": "stdout",
     "output_type": "stream",
     "text": [
      "The r-squared is: 0.3685277017470937\n"
     ]
    },
    {
     "data": {
      "image/png": "[encoded data removed]",
      "text/plain": [
       "<Figure size 432x288 with 1 Axes>"
      ]
     },
     "metadata": {
      "needs_background": "light"
     },
     "output_type": "display_data"
    }
   ],
   "source": [
    "x_values = total_case_data_LA['temp']\n",
    "y_values = total_case_data_LA['totalcountconfirmed']\n",
    "(slope, intercept, rvalue, pvalue, stderr) = linregress(x_values, y_values)\n",
    "regress_values = x_values * slope + intercept\n",
    "line_eq = \"y = \" + str(round(slope,2)) + \"x + \" + str(round(intercept,2))\n",
    "plt.scatter(x_values, y_values)\n",
    "plt.plot(x_values,regress_values,\"r-\")\n",
    "plt.annotate(line_eq,(0,50),fontsize=15,color=\"red\")\n",
    "plt.xlabel('Temperature')\n",
    "plt.ylabel('Total Cases')\n",
    "plt.title('Temperature Vs. Total Cases for LA')\n",
    "plt.savefig('Resources/Temperature_vs_Cases_for_LA_line_regress.jpg')\n",
    "print(f\"The r-squared is: {rvalue**2}\")\n",
    "plt.show()"
   ]
  },
  {
   "cell_type": "code",
   "execution_count": null,
   "metadata": {},
   "outputs": [],
   "source": []
  }
 ],
 "metadata": {
  "kernelspec": {
   "display_name": "Python 3",
   "language": "python",
   "name": "python3"
  },
  "language_info": {
   "codemirror_mode": {
    "name": "ipython",
    "version": 3
   },
   "file_extension": ".py",
   "mimetype": "text/x-python",
   "name": "python",
   "nbconvert_exporter": "python",
   "pygments_lexer": "ipython3",
   "version": "3.8.3"
  }
 },
 "nbformat": 4,
 "nbformat_minor": 4
}
